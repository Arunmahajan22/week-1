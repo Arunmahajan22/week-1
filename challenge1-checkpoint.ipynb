{
 "cells": [
  {
   "cell_type": "code",
   "execution_count": 1,
   "id": "a1079321-34c4-4fc6-892c-eb2f2e69e51a",
   "metadata": {},
   "outputs": [
    {
     "name": "stdout",
     "output_type": "stream",
     "text": [
      "['Ram', 1, 'Shyam', 'Aman', 3]\n",
      "['1', '3', 'Aman', 'Ram', 'Shyam']\n"
     ]
    }
   ],
   "source": [
    "l=[\"Ram\",1,\"Shyam\",\"Aman\",3]\n",
    "print(l)\n",
    "l=[str(x) for x in l]\n",
    "l.sort()\n",
    "print(l)"
   ]
  },
  {
   "cell_type": "code",
   "execution_count": null,
   "id": "b4baccfc-d245-4de9-93e7-75bdddd81914",
   "metadata": {},
   "outputs": [],
   "source": []
  }
 ],
 "metadata": {
  "kernelspec": {
   "display_name": "Python 3 (ipykernel)",
   "language": "python",
   "name": "python3"
  },
  "language_info": {
   "codemirror_mode": {
    "name": "ipython",
    "version": 3
   },
   "file_extension": ".py",
   "mimetype": "text/x-python",
   "name": "python",
   "nbconvert_exporter": "python",
   "pygments_lexer": "ipython3",
   "version": "3.12.1"
  }
 },
 "nbformat": 4,
 "nbformat_minor": 5
}
