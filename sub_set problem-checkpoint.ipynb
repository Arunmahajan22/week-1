{
 "cells": [
  {
   "cell_type": "code",
   "execution_count": 10,
   "id": "0fc20732-2856-4d41-8495-04adfb6be1f3",
   "metadata": {},
   "outputs": [
    {
     "name": "stdout",
     "output_type": "stream",
     "text": [
      "(-9, -6, 1, 3, 11)\n",
      "(-7, -2, 1, 2, 6)\n",
      "(-9, -8, -3, 9, 11)\n",
      "(-9, -7, 2, 3, 11)\n",
      "(-8, -2, 1, 2, 7)\n",
      "(-12, -5, 1, 7, 9)\n",
      "(-6, -5, -2, 6, 7)\n",
      "(-8, -7, -5, 9, 11)\n",
      "(-8, -6, -4, 7, 11)\n",
      "(-9, -3, 1, 2, 9)\n",
      "(-12, -8, 3, 6, 11)\n",
      "(-9, -3, -2, 3, 11)\n",
      "(-9, -4, -2, 6, 9)\n",
      "(-8, -4, -3, 6, 9)\n",
      "(-12, -3, -2, 6, 11)\n",
      "(-12, -3, 1, 3, 11)\n",
      "(-6, -5, -2, 2, 11)\n",
      "(-12, -4, 1, 6, 9)\n",
      "(-12, -6, 1, 6, 11)\n",
      "(-9, -3, -2, 3, 11)\n",
      "(-12, -2, 1, 2, 11)\n",
      "(-12, 1, 2, 3, 6)\n",
      "(-8, -5, -2, 6, 9)\n",
      "(-7, -6, -2, 6, 9)\n",
      "(-9, -2, 2, 3, 6)\n",
      "(-7, -2, 1, 2, 6)\n",
      "Total sets 26\n"
     ]
    }
   ],
   "source": [
    "import  random as r\n",
    "hello=[(-12, -3, -6, 7, 2, -2, 6, 3, 9, -7, -5, -8, 1, 11, -9, -4)]\n",
    "result= []\n",
    "for _ in range(1000):\n",
    "    sample=r.sample(hello[0],5)\n",
    "    sample.sort()\n",
    "    \n",
    "    if sum(sample)==0:\n",
    "        result.append(tuple(sample))\n",
    "for s in result:\n",
    "    print(s)\n",
    "print(\"Total sets\",len(result))"
   ]
  },
  {
   "cell_type": "code",
   "execution_count": 16,
   "id": "b920477f-99d3-4e8c-a690-07e1517cdc48",
   "metadata": {},
   "outputs": [
    {
     "name": "stdout",
     "output_type": "stream",
     "text": [
      "(-8, -4, -3, 1, 3, 11)\n",
      "(-12, -5, -2, 2, 6, 11)\n",
      "(-9, -8, -7, 6, 7, 11)\n",
      "(-12, -9, -6, 7, 9, 11)\n",
      "(-5, -4, -3, 2, 3, 7)\n",
      "(-12, -8, -6, 6, 9, 11)\n",
      "(-12, -7, -5, 6, 7, 11)\n",
      "(-9, -4, -3, -2, 7, 11)\n",
      "(-7, -5, -3, -2, 6, 11)\n",
      "(-8, -5, -3, 1, 6, 9)\n",
      "(-8, -7, -4, 1, 7, 11)\n",
      "(-9, -6, -5, 3, 6, 11)\n",
      "(-12, -7, -4, 3, 9, 11)\n",
      "(-7, -6, -5, 1, 6, 11)\n",
      "(-12, -8, -3, 3, 9, 11)\n",
      "(-7, -5, -3, 1, 3, 11)\n",
      "(-7, -5, -4, -2, 7, 11)\n",
      "(-9, -3, -2, 1, 2, 11)\n",
      "(-8, -6, -4, 2, 7, 9)\n",
      "Total sets 19\n"
     ]
    }
   ],
   "source": [
    "\n",
    "import  random as r\n",
    "hello=[(-12, -3, -6, 7, 2, -2, 6, 3, 9, -7, -5, -8, 1, 11, -9, -4)]\n",
    "result= []\n",
    "y=r.randint(3,6)\n",
    "\n",
    "for _ in range(1000):\n",
    "    sample=r.sample(hello[0],y)\n",
    "    sample.sort()\n",
    "    \n",
    "    if sum(sample)==0:\n",
    "        result.append(tuple(sample))\n",
    "for s in result:\n",
    "    print(s)\n",
    "print(\"Total sets\",len(result))"
   ]
  },
  {
   "cell_type": "code",
   "execution_count": null,
   "id": "f5b5a30b-6ed2-4009-9aa9-5e7064736550",
   "metadata": {},
   "outputs": [],
   "source": []
  }
 ],
 "metadata": {
  "kernelspec": {
   "display_name": "Python 3 (ipykernel)",
   "language": "python",
   "name": "python3"
  },
  "language_info": {
   "codemirror_mode": {
    "name": "ipython",
    "version": 3
   },
   "file_extension": ".py",
   "mimetype": "text/x-python",
   "name": "python",
   "nbconvert_exporter": "python",
   "pygments_lexer": "ipython3",
   "version": "3.12.1"
  }
 },
 "nbformat": 4,
 "nbformat_minor": 5
}
