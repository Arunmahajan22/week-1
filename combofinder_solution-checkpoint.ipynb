{
 "cells": [
  {
   "cell_type": "code",
   "execution_count": 8,
   "id": "653538fa-9a9e-4f23-a597-8ed7d0325e2d",
   "metadata": {},
   "outputs": [
    {
     "name": "stdout",
     "output_type": "stream",
     "text": [
      "('p1', 'p12', 'p5', 'p6', 'p7', 'p8', 'p9')\n",
      "('p10', 'p12', 'p14', 'p4', 'p7', 'p8')\n",
      "('p1', 'p13', 'p2', 'p3', 'p4', 'p5', 'p6', 'p7', 'p8')\n",
      "('p1', 'p11', 'p14', 'p4', 'p5', 'p6', 'p8', 'p9')\n",
      "('p12', 'p13', 'p14', 'p4', 'p7', 'p8')\n",
      "('p12', 'p14', 'p2', 'p5', 'p6', 'p8', 'p9')\n",
      "('p1', 'p12', 'p14', 'p2', 'p4', 'p5', 'p8', 'p9')\n",
      "('p1', 'p10', 'p13', 'p14', 'p2', 'p4', 'p6', 'p8')\n",
      "('p12', 'p13', 'p5', 'p6', 'p7', 'p8')\n",
      "('p1', 'p11', 'p12', 'p2', 'p7', 'p8', 'p9')\n",
      "('p1', 'p11', 'p13', 'p14', 'p2', 'p6', 'p9')\n",
      "('p12', 'p13', 'p14', 'p4', 'p5', 'p9')\n",
      "('p10', 'p12', 'p14', 'p3', 'p4', 'p5', 'p6')\n",
      "('p10', 'p13', 'p14', 'p2', 'p3', 'p6', 'p7')\n",
      "('p1', 'p11', 'p13', 'p4', 'p5', 'p6', 'p9')\n",
      "('p1', 'p11', 'p14', 'p2', 'p3', 'p4', 'p5', 'p7', 'p8')\n",
      "('p10', 'p11', 'p2', 'p3', 'p4', 'p5', 'p7', 'p8')\n",
      "('p1', 'p12', 'p2', 'p4', 'p6', 'p7', 'p8', 'p9')\n",
      "('p10', 'p12', 'p2', 'p3', 'p4', 'p5', 'p6', 'p8')\n",
      "('p11', 'p13', 'p2', 'p4', 'p5', 'p6', 'p9')\n",
      "('p11', 'p13', 'p2', 'p3', 'p4', 'p7', 'p9')\n",
      "('p1', 'p10', 'p12', 'p2', 'p3', 'p4', 'p8', 'p9')\n",
      "('p10', 'p11', 'p12', 'p7', 'p9')\n",
      "('p1', 'p11', 'p13', 'p2', 'p4', 'p7', 'p9')\n",
      "('p11', 'p13', 'p14', 'p2', 'p5', 'p6', 'p8')\n",
      "('p1', 'p11', 'p13', 'p2', 'p6', 'p7', 'p9')\n",
      "('p11', 'p13', 'p14', 'p4', 'p7', 'p8')\n",
      "('p10', 'p12', 'p3', 'p5', 'p7', 'p9')\n",
      "('p1', 'p10', 'p12', 'p14', 'p2', 'p6', 'p9')\n",
      "('p10', 'p11', 'p12', 'p3', 'p6', 'p7')\n",
      "('p1', 'p10', 'p13', 'p14', 'p5', 'p7', 'p8')\n",
      "('p1', 'p10', 'p12', 'p13', 'p2', 'p5', 'p7')\n",
      "('p10', 'p14', 'p2', 'p3', 'p5', 'p6', 'p7', 'p9')\n",
      "('p12', 'p13', 'p14', 'p3', 'p4', 'p6', 'p8')\n",
      "('p1', 'p10', 'p11', 'p14', 'p4', 'p7', 'p9')\n",
      "('p1', 'p11', 'p13', 'p3', 'p7', 'p8', 'p9')\n",
      "('p12', 'p13', 'p14', 'p2', 'p7', 'p8')\n",
      "('p11', 'p12', 'p4', 'p7', 'p8', 'p9')\n",
      "Total subsets 38\n"
     ]
    }
   ],
   "source": [
    "import random as r\n",
    "productlist = {'p1':10, 'p2':15, 'p3':20, 'p4':25, 'p5':30, 'p6':35, 'p7':50,\n",
    "               'p8':40, 'p9':55, 'p10':60, 'p11':65, 'p12':75, 'p13':70,\n",
    "               'p14':45}\n",
    "result=[]\n",
    "for i in range(1000):\n",
    "    size=r.randint(2,len(productlist)-1)\n",
    "    combo=r.sample(list(productlist.keys()),size)\n",
    "    combo.sort()\n",
    "    combosum=sum([productlist[i] for i in combo])\n",
    "    if combosum>=290 and combosum<=310:\n",
    "        result.append(tuple(combo))\n",
    "for r in result:\n",
    "    print(r)\n",
    "print(\"Total subsets\",len(result))"
   ]
  },
  {
   "cell_type": "code",
   "execution_count": null,
   "id": "f26516fc-4156-49cc-ac68-7786094c9742",
   "metadata": {},
   "outputs": [],
   "source": []
  },
  {
   "cell_type": "code",
   "execution_count": null,
   "id": "24126cf7-be7d-449b-87fa-af5b629fbad8",
   "metadata": {},
   "outputs": [],
   "source": []
  }
 ],
 "metadata": {
  "kernelspec": {
   "display_name": "Python 3 (ipykernel)",
   "language": "python",
   "name": "python3"
  },
  "language_info": {
   "codemirror_mode": {
    "name": "ipython",
    "version": 3
   },
   "file_extension": ".py",
   "mimetype": "text/x-python",
   "name": "python",
   "nbconvert_exporter": "python",
   "pygments_lexer": "ipython3",
   "version": "3.12.1"
  }
 },
 "nbformat": 4,
 "nbformat_minor": 5
}
